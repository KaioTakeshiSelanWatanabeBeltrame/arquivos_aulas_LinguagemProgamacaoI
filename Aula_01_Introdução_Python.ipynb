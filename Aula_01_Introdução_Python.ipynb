{
  "nbformat": 4,
  "nbformat_minor": 0,
  "metadata": {
    "colab": {
      "provenance": [],
      "toc_visible": true,
      "authorship_tag": "ABX9TyPDBn8VPlNgKkK/gN67LLJZ",
      "include_colab_link": true
    },
    "kernelspec": {
      "name": "python3",
      "display_name": "Python 3"
    },
    "language_info": {
      "name": "python"
    }
  },
  "cells": [
    {
      "cell_type": "markdown",
      "metadata": {
        "id": "view-in-github",
        "colab_type": "text"
      },
      "source": [
        "<a href=\"https://colab.research.google.com/github/KaioTakeshiSelanWatanabeBeltrame/arquivos_aulas_LinguagemProgamacaoI/blob/main/Aula_01_Introdu%C3%A7%C3%A3o_Python.ipynb\" target=\"_parent\"><img src=\"https://colab.research.google.com/assets/colab-badge.svg\" alt=\"Open In Colab\"/></a>"
      ]
    },
    {
      "cell_type": "markdown",
      "source": [
        "# **Primeiros passos com Python**"
      ],
      "metadata": {
        "id": "YYVHDHEqthw5"
      }
    },
    {
      "cell_type": "markdown",
      "source": [
        "Vamos realizar os primeiros códigos com a linguagem Python para observar o funcionamento das etapas:\n",
        "\n",
        "\n",
        "1. Entrada\n",
        "2. Processamento\n",
        "3. Saída\n",
        "4. Comentários"
      ],
      "metadata": {
        "id": "rNfudYt-t0tz"
      }
    },
    {
      "cell_type": "markdown",
      "source": [
        "## EXERCÍCIO 1 - Um Bom Programa Inicial\n",
        "O primeiro passo para usar linhas de código em alguma linguagem (saída de dados)"
      ],
      "metadata": {
        "id": "RnB7S9fguspk"
      }
    },
    {
      "cell_type": "code",
      "execution_count": null,
      "metadata": {
        "colab": {
          "base_uri": "https://localhost:8080/"
        },
        "id": "xcssZBeBtf9d",
        "outputId": "a8909469-5da1-456d-91b0-d4a519ce554e"
      },
      "outputs": [
        {
          "output_type": "stream",
          "name": "stdout",
          "text": [
            "Hello World!\n",
            "Hello Again.\n",
            "I like Typing this.\n",
            "Yay! Printing.\n",
            "I 'd much rather you not.\n",
            "I said do not touch this.\n"
          ]
        }
      ],
      "source": [
        "print(\"Hello World!\")\n",
        "print(\"Hello Again.\")\n",
        "\n",
        "print(\"I like Typing this.\")\n",
        "print(\"Yay! Printing.\")\n",
        "\n",
        "print(\"I 'd much rather you not.\")\n",
        "print(\"I said do not touch this.\")\n",
        "\n"
      ]
    },
    {
      "cell_type": "markdown",
      "source": [
        "## EXERCÍCIO 2 - Comentários e Cerquilhas\n",
        "\n",
        "\n",
        "Compreender o uso de comentários para minhas linhas de códigos;"
      ],
      "metadata": {
        "id": "aL_ABwfF51kB"
      }
    },
    {
      "cell_type": "code",
      "source": [
        "# Um comentário, assim você pode ler seu programa mais tarde\n",
        "# Qualquer coisa depois de # é ignorada pelo Python.\n",
        "\n",
        "print(\"I could have code like this.\") # e o comentário depois ignorado\n",
        "\n",
        "# Você também pode usar um comentário para desabilitar um código:\n",
        "#print(\"This won't run.\")\n",
        "\n",
        "print('This will run')\n"
      ],
      "metadata": {
        "colab": {
          "base_uri": "https://localhost:8080/"
        },
        "id": "Tq1h3QWN6GRP",
        "outputId": "86c56273-fcce-4c4c-a89a-058a13477533"
      },
      "execution_count": null,
      "outputs": [
        {
          "output_type": "stream",
          "name": "stdout",
          "text": [
            "I could have code like this.\n",
            "This will run\n"
          ]
        }
      ]
    },
    {
      "cell_type": "markdown",
      "source": [
        "## EXERCÍCIO 3 - Número e Matemática\n",
        "\n",
        "Primeiras operações matemáticas, dentro da instrução de saída de dados;"
      ],
      "metadata": {
        "id": "mfV45RLX8gFC"
      }
    },
    {
      "cell_type": "code",
      "source": [
        "#inicia com um texto sobre o que será feito no resto do programa\n",
        "print(\"I will now count my chickens:\")\n",
        "#irá concatenar o texto entre aspas com o resultado das operações após as vírgulas\n",
        "print(\"Hens\", 25 + 30 / 6)\n",
        "print(\"Roosters\", 100 - 25 * 3 % 4)\n",
        "#inicia com um texto sobre o que será feito no resto do programa\n",
        "print(\"Now I will count the eggs:\")\n",
        "#irá realizar uma operação matemática\n",
        "print(3 + 2 + 1 - 5 + 4 % 2 - 1 / 4 + 6)\n",
        "#inicia com um texto sobre o que será feito no resto do programa\n",
        "print(\"Is it true that 3 + 2 < 5 - 7?\")\n",
        "#realizar uma operação relacionando em que o resultado é boleano\n",
        "print(3 + 2 < 5 - 7)\n",
        "#inicia com um texto sobre o que será feito no resto do programa\n",
        "print(\"Whats is 3 + 2?\", 3 + 2)\n",
        "print(\"Whats is 5 - 7?\", 5 - 7)\n",
        "#inicia com um texto sobre o que será feito no resto do programa\n",
        "print(\"Oh, that's why it's False.\")\n",
        "#inicia com um texto sobre o que será feito no resto do programa\n",
        "print(\"How About some more.\")\n",
        "#texto com operações relacionais\n",
        "print(\"Is it greater?\", 5 > -2)\n",
        "print(\"Is it greater or equal?\", 5 >= -2)\n",
        "print(\"Is it less or equal?\", 5 <= -2)"
      ],
      "metadata": {
        "colab": {
          "base_uri": "https://localhost:8080/"
        },
        "id": "fsD7CLqB8rvQ",
        "outputId": "68e30292-559e-4602-9376-c84acb6b3728"
      },
      "execution_count": null,
      "outputs": [
        {
          "output_type": "stream",
          "name": "stdout",
          "text": [
            "I will now count my chickens:\n",
            "Hens 30.0\n",
            "Roosters 97\n",
            "Now I will count the eggs:\n",
            "6.75\n",
            "Is it true that 3 + 2 < 5 - 7?\n",
            "False\n",
            "Whats is 3 + 2? 5\n",
            "Whats is 5 - 7? -2\n",
            "Oh, that's why it's False.\n",
            "How About some more.\n",
            "Is it greater? True\n",
            "Is it greater or equal? True\n",
            "Is it less or equal? False\n"
          ]
        }
      ]
    },
    {
      "cell_type": "markdown",
      "source": [
        "##EXERCÍCIO 4 - Variáveis e Nomes\n",
        "\n",
        "Como declarar variáveis e seus rótulos;"
      ],
      "metadata": {
        "id": "aVX6zBbJAoBE"
      }
    },
    {
      "cell_type": "code",
      "source": [
        "cars = 100 #atribuindo um número inteiro\n",
        "spaceInACar = 4.0 #atribuindo um número real\n",
        "drivers = 30 #atribuindo um número inteiro\n",
        "passengers = 90 #atribuindo um número inteiro\n",
        "carsNotDriven = cars - drivers #operação aritmética entre inteiro e inteiro\n",
        "carsDriven = drivers # atribuição de valor entre variáveis sem operação\n",
        "carpoolCapacity = carsDriven * spaceInACar #atribuindo o resultado de uma operação aritmética entre inteiro e real\n",
        "averagePassengersPerCar = passengers / carsDriven #atribuindo o resultado de uma operação aritmética entre inteiro e inteiro\n",
        "\n",
        "print(\"There are\", cars, \"cars available.\")\n",
        "print(\"There are only\", drivers, \"drivers available.\")\n",
        "print(\"There will be\", carsNotDriven, \"empty cars today.\")\n",
        "print(\"We can transport\", carpoolCapacity, \"people today.\")\n",
        "print( \"We have\", passengers, \"to carpool today.\")\n",
        "print(\"We need to put about\", averagePassengersPerCar, \"in each car.\")\n",
        "print(10/5)"
      ],
      "metadata": {
        "colab": {
          "base_uri": "https://localhost:8080/"
        },
        "id": "oBGQM_XYAwcR",
        "outputId": "b4baa4cf-c988-4861-8111-167c2a35cc13"
      },
      "execution_count": null,
      "outputs": [
        {
          "output_type": "stream",
          "name": "stdout",
          "text": [
            "There are 100 cars available.\n",
            "There are only 30 drivers available.\n",
            "There will be 70 empty cars today.\n",
            "We can transport 120.0 people today.\n",
            "We have 90 to carpool today.\n",
            "We need to put about 3.0 in each car.\n",
            "2.0\n"
          ]
        }
      ]
    }
  ]
}